{
 "cells": [
  {
   "cell_type": "code",
   "execution_count": 1,
   "id": "reasonable-detection",
   "metadata": {},
   "outputs": [],
   "source": [
    "import ipycytoscape as ic  # visualise\n",
    "import pandas as pd\n",
    "import netaddr\n",
    "from stellargraph import StellarGraph\n",
    "import matplotlib.pyplot as plt\n",
    "from sklearn.cluster import KMeans  # sanity check embeddings\n",
    "from stellargraph.data import UnsupervisedSampler\n",
    "from stellargraph.mapper import GraphSAGELinkGenerator\n",
    "from stellargraph.layer import GraphSAGE, link_classification\n",
    "from tensorflow import keras\n",
    "from stellargraph.mapper import GraphSAGENodeGenerator  # for getting embeddings"
   ]
  },
  {
   "cell_type": "markdown",
   "id": "three-anniversary",
   "metadata": {},
   "source": [
    "### Make some data\n",
    "\n",
    "Create some data in pandas for stellagraph ingestion. Using https://stellargraph.readthedocs.io/en/stable/demos/basics/loading-pandas.html"
   ]
  },
  {
   "cell_type": "code",
   "execution_count": 2,
   "id": "muslim-afternoon",
   "metadata": {},
   "outputs": [],
   "source": [
    "# cytoscape format\n",
    "data = {'nodes': \n",
    "         [{'data': {'id': 'n0', 'name': 'Node 0', 'ip': '192.168.0.10', 'mask': '255.255.255.0'}},\n",
    "          {'data': {'id': 'n1', 'name': 'Node 1', 'ip': '192.168.0.101', 'mask': '255.255.255.0'}},\n",
    "          {'data': {'id': 'n2', 'name': 'Node 2', 'ip': '192.168.0.9', 'mask': '255.255.255.0'}},\n",
    "          {'data': {'id': 'n3', 'name': 'Node 3', 'ip': '192.168.0.56', 'mask': '255.255.255.0'}},\n",
    "          {'data': {'id': 'n4', 'name': 'Node 4', 'ip': '192.168.0.12', 'mask': '255.255.255.0'}},\n",
    "          {'data': {'id': 'n5', 'name': 'Node 5', 'ip': '10.0.1.30', 'mask': '255.255.255.0'}},\n",
    "          {'data': {'id': 'n6', 'name': 'Node 6', 'ip': '10.0.1.56', 'mask': '255.255.255.0'}},\n",
    "          {'data': {'id': 'n7', 'name': 'Node 7', 'ip': '10.0.1.2', 'mask': '255.255.255.0'}},\n",
    "          {'data': {'id': 'n8', 'name': 'Node 8', 'ip': '10.0.1.102', 'mask': '255.255.255.0'}},\n",
    "          {'data': {'id': 'n9', 'name': 'Node 9', 'ip': '10.0.1.100', 'mask': '255.255.255.0'}}],\n",
    "        'edges': \n",
    "        [{'data': {'id': 'n0-n5', 'source': 'n0', 'target': 'n5'}},\n",
    "         {'data': {'id': 'n0-n1', 'source': 'n0', 'target': 'n1'}},\n",
    "         {'data': {'id': 'n0-n2', 'source': 'n0', 'target': 'n2'}},\n",
    "         {'data': {'id': 'n0-n8', 'source': 'n0', 'target': 'n8'}},\n",
    "         {'data': {'id': 'n0-n9', 'source': 'n0', 'target': 'n9'}},\n",
    "         {'data': {'id': 'n1-n2', 'source': 'n1', 'target': 'n2'}},\n",
    "         {'data': {'id': 'n8-n9', 'source': 'n8', 'target': 'n9'}},\n",
    "         {'data': {'id': 'n5-n3', 'source': 'n5', 'target': 'n3'}},\n",
    "         {'data': {'id': 'n5-n4', 'source': 'n5', 'target': 'n4'}},\n",
    "         {'data': {'id': 'n5-n6', 'source': 'n5', 'target': 'n6'}},\n",
    "         {'data': {'id': 'n5-n7', 'source': 'n5', 'target': 'n7'}},\n",
    "         {'data': {'id': 'n3-n4', 'source': 'n3', 'target': 'n4'}},\n",
    "         {'data': {'id': 'n6-n7', 'source': 'n6', 'target': 'n7'}}]\n",
    "       }"
   ]
  },
  {
   "cell_type": "code",
   "execution_count": 3,
   "id": "cooked-exchange",
   "metadata": {
    "scrolled": true
   },
   "outputs": [],
   "source": [
    "edges_df = pd.DataFrame([x['data'] for x in data['edges']])\n",
    "edges_df = edges_df.drop(['id'], axis=1)"
   ]
  },
  {
   "cell_type": "code",
   "execution_count": 4,
   "id": "processed-welsh",
   "metadata": {
    "scrolled": false
   },
   "outputs": [],
   "source": [
    "nodes_df = pd.DataFrame([x['data'] for x in data['nodes']])\n",
    "nodes_df = nodes_df.set_index(['id'])"
   ]
  },
  {
   "cell_type": "markdown",
   "id": "relative-little",
   "metadata": {},
   "source": [
    "StellarGraph only takes node features as a numerical type, so need to cast strings to numeric"
   ]
  },
  {
   "cell_type": "code",
   "execution_count": 5,
   "id": "nervous-azerbaijan",
   "metadata": {},
   "outputs": [
    {
     "data": {
      "text/html": [
       "<div>\n",
       "<style scoped>\n",
       "    .dataframe tbody tr th:only-of-type {\n",
       "        vertical-align: middle;\n",
       "    }\n",
       "\n",
       "    .dataframe tbody tr th {\n",
       "        vertical-align: top;\n",
       "    }\n",
       "\n",
       "    .dataframe thead th {\n",
       "        text-align: right;\n",
       "    }\n",
       "</style>\n",
       "<table border=\"1\" class=\"dataframe\">\n",
       "  <thead>\n",
       "    <tr style=\"text-align: right;\">\n",
       "      <th></th>\n",
       "      <th>ip_num</th>\n",
       "      <th>mask_num</th>\n",
       "    </tr>\n",
       "    <tr>\n",
       "      <th>id</th>\n",
       "      <th></th>\n",
       "      <th></th>\n",
       "    </tr>\n",
       "  </thead>\n",
       "  <tbody>\n",
       "    <tr>\n",
       "      <th>n0</th>\n",
       "      <td>3232235530</td>\n",
       "      <td>4294967040</td>\n",
       "    </tr>\n",
       "    <tr>\n",
       "      <th>n1</th>\n",
       "      <td>3232235621</td>\n",
       "      <td>4294967040</td>\n",
       "    </tr>\n",
       "    <tr>\n",
       "      <th>n2</th>\n",
       "      <td>3232235529</td>\n",
       "      <td>4294967040</td>\n",
       "    </tr>\n",
       "    <tr>\n",
       "      <th>n3</th>\n",
       "      <td>3232235576</td>\n",
       "      <td>4294967040</td>\n",
       "    </tr>\n",
       "    <tr>\n",
       "      <th>n4</th>\n",
       "      <td>3232235532</td>\n",
       "      <td>4294967040</td>\n",
       "    </tr>\n",
       "    <tr>\n",
       "      <th>n5</th>\n",
       "      <td>167772446</td>\n",
       "      <td>4294967040</td>\n",
       "    </tr>\n",
       "    <tr>\n",
       "      <th>n6</th>\n",
       "      <td>167772472</td>\n",
       "      <td>4294967040</td>\n",
       "    </tr>\n",
       "    <tr>\n",
       "      <th>n7</th>\n",
       "      <td>167772418</td>\n",
       "      <td>4294967040</td>\n",
       "    </tr>\n",
       "    <tr>\n",
       "      <th>n8</th>\n",
       "      <td>167772518</td>\n",
       "      <td>4294967040</td>\n",
       "    </tr>\n",
       "    <tr>\n",
       "      <th>n9</th>\n",
       "      <td>167772516</td>\n",
       "      <td>4294967040</td>\n",
       "    </tr>\n",
       "  </tbody>\n",
       "</table>\n",
       "</div>"
      ],
      "text/plain": [
       "        ip_num    mask_num\n",
       "id                        \n",
       "n0  3232235530  4294967040\n",
       "n1  3232235621  4294967040\n",
       "n2  3232235529  4294967040\n",
       "n3  3232235576  4294967040\n",
       "n4  3232235532  4294967040\n",
       "n5   167772446  4294967040\n",
       "n6   167772472  4294967040\n",
       "n7   167772418  4294967040\n",
       "n8   167772518  4294967040\n",
       "n9   167772516  4294967040"
      ]
     },
     "execution_count": 5,
     "metadata": {},
     "output_type": "execute_result"
    }
   ],
   "source": [
    "networks = [netaddr.IPNetwork(x[0] + '/' + x[1]) for x in zip(nodes_df['ip'], nodes_df['mask'])]\n",
    "nodes_df['ip_num'] = [int(x.ip.bits().replace('.',''), 2) for x in networks]\n",
    "nodes_df['mask_num'] = [int(x.netmask.bits().replace('.',''), 2) for x in networks]\n",
    "nodes_df = nodes_df.drop(['ip', 'mask', 'name'], axis=1)\n",
    "nodes_df"
   ]
  },
  {
   "cell_type": "code",
   "execution_count": 6,
   "id": "disciplinary-sailing",
   "metadata": {
    "scrolled": true
   },
   "outputs": [
    {
     "name": "stdout",
     "output_type": "stream",
     "text": [
      "StellarGraph: Undirected multigraph\n",
      " Nodes: 10, Edges: 13\n",
      "\n",
      " Node types:\n",
      "  default: [10]\n",
      "    Features: float32 vector, length 2\n",
      "    Edge types: default-default->default\n",
      "\n",
      " Edge types:\n",
      "    default-default->default: [13]\n",
      "        Weights: all 1 (default)\n",
      "        Features: none\n"
     ]
    }
   ],
   "source": [
    "nodes_edges_sg = StellarGraph(nodes_df, edges_df)\n",
    "print(nodes_edges_sg.info())"
   ]
  },
  {
   "cell_type": "markdown",
   "id": "inappropriate-magnet",
   "metadata": {},
   "source": [
    "### GraphSAGE\n",
    "\n",
    "Here, we use node2vec to convert the nodes to vector embeddings. Follows https://stellargraph.readthedocs.io/en/stable/demos/embeddings/graphsage-unsupervised-sampler-embeddings.html\n"
   ]
  },
  {
   "cell_type": "markdown",
   "id": "simple-underwear",
   "metadata": {},
   "source": [
    "create a generator that will spit out node pairs that are sampled from the input graph"
   ]
  },
  {
   "cell_type": "code",
   "execution_count": 7,
   "id": "suspended-badge",
   "metadata": {},
   "outputs": [],
   "source": [
    "nodes = list(nodes_edges_sg.nodes())\n",
    "number_of_walks = 2\n",
    "length = 3\n",
    "unsupervised_samples = UnsupervisedSampler(\n",
    "    nodes_edges_sg, nodes=nodes, length=length, number_of_walks=number_of_walks\n",
    ")\n",
    "# help(unsupervised_samples)  # generates node pairs with a random binary label. Equal chance of 0 or 1 label. \n",
    "# help(GraphSAGELinkGenerator)"
   ]
  },
  {
   "cell_type": "code",
   "execution_count": 8,
   "id": "bright-arthur",
   "metadata": {},
   "outputs": [],
   "source": [
    "batch_size = 50\n",
    "num_samples = [10, 5]  # sampling from 1-hop and 2-hop in graph\n",
    "generator = GraphSAGELinkGenerator(nodes_edges_sg, batch_size, num_samples)\n",
    "train_gen = generator.flow(unsupervised_samples)\n",
    "# help(GraphSAGE)  # creates a two layer model"
   ]
  },
  {
   "cell_type": "markdown",
   "id": "collectible-analyst",
   "metadata": {},
   "source": [
    "Create a GraphSAGE model, which will have a two layer GCN under the hood"
   ]
  },
  {
   "cell_type": "code",
   "execution_count": 9,
   "id": "warming-commerce",
   "metadata": {},
   "outputs": [],
   "source": [
    "layer_sizes = [20, 20]  # len(layer_sizes) == len(num_samples). Not sure if len(...) != 2 is supported... \n",
    "                        # depending on using the src or dst node encoders, specifies the dimensionality of the\n",
    "                        # node embeddings\n",
    "graphsage = GraphSAGE(\n",
    "    layer_sizes=layer_sizes, generator=generator, bias=True, dropout=0.0, normalize=\"l2\"\n",
    ")\n",
    "# Build the model and expose input and output sockets of graphsage, for node pair inputs:\n",
    "x_inp, x_out = graphsage.in_out_tensors()"
   ]
  },
  {
   "cell_type": "markdown",
   "id": "better-leeds",
   "metadata": {},
   "source": [
    "Phrase the 'link prediction problem', which will be predicting the binary label on node pairs coming from unsupervised_samples. Note, the link prediction problem is just a means to an end of computing 2-hop kernel functions over nodes."
   ]
  },
  {
   "cell_type": "code",
   "execution_count": 10,
   "id": "sexual-encoding",
   "metadata": {},
   "outputs": [
    {
     "name": "stdout",
     "output_type": "stream",
     "text": [
      "link_classification: using 'ip' method to combine node embeddings into edge embeddings\n"
     ]
    }
   ],
   "source": [
    "# Build the model and expose input and output sockets of graphsage, for node pair inputs:\n",
    "x_inp, x_out = graphsage.in_out_tensors()\n",
    "prediction = link_classification(\n",
    "    output_dim=1, output_act=\"sigmoid\", edge_embedding_method=\"ip\"\n",
    ")(x_out)"
   ]
  },
  {
   "cell_type": "code",
   "execution_count": 11,
   "id": "final-geology",
   "metadata": {},
   "outputs": [],
   "source": [
    "# spec the model for training\n",
    "model = keras.Model(inputs=x_inp, outputs=prediction)\n",
    "model.compile(\n",
    "    optimizer=keras.optimizers.Adam(lr=1e-3),\n",
    "    loss=keras.losses.binary_crossentropy,\n",
    "    metrics=[keras.metrics.binary_accuracy],\n",
    ")"
   ]
  },
  {
   "cell_type": "code",
   "execution_count": 12,
   "id": "prospective-blast",
   "metadata": {},
   "outputs": [
    {
     "name": "stdout",
     "output_type": "stream",
     "text": [
      "Epoch 1/10\n",
      "2/2 [==============================] - 0s 1ms/step - loss: 0.7974 - binary_accuracy: 0.5000\n",
      "Epoch 2/10\n",
      "2/2 [==============================] - 0s 1ms/step - loss: 0.7999 - binary_accuracy: 0.5000\n",
      "Epoch 3/10\n",
      "2/2 [==============================] - 0s 1ms/step - loss: 0.8010 - binary_accuracy: 0.5000\n",
      "Epoch 4/10\n",
      "2/2 [==============================] - 0s 1ms/step - loss: 0.8001 - binary_accuracy: 0.5000\n",
      "Epoch 5/10\n",
      "2/2 [==============================] - 0s 1ms/step - loss: 0.7984 - binary_accuracy: 0.5000\n",
      "Epoch 6/10\n",
      "2/2 [==============================] - 0s 1ms/step - loss: 0.7968 - binary_accuracy: 0.5000\n",
      "Epoch 7/10\n",
      "2/2 [==============================] - 0s 7ms/step - loss: 0.8016 - binary_accuracy: 0.5000\n",
      "Epoch 8/10\n",
      "2/2 [==============================] - 0s 1ms/step - loss: 0.8004 - binary_accuracy: 0.5000\n",
      "Epoch 9/10\n",
      "2/2 [==============================] - 0s 1ms/step - loss: 0.7951 - binary_accuracy: 0.5000\n",
      "Epoch 10/10\n",
      "2/2 [==============================] - 0s 1ms/step - loss: 0.7952 - binary_accuracy: 0.5000\n"
     ]
    }
   ],
   "source": [
    "epochs = 10\n",
    "history = model.fit(\n",
    "    train_gen,\n",
    "    epochs=epochs,\n",
    "    verbose=1,\n",
    "\n",
    "    use_multiprocessing=False,\n",
    "    workers=4,\n",
    "    shuffle=True,\n",
    ")"
   ]
  },
  {
   "cell_type": "markdown",
   "id": "circular-lotus",
   "metadata": {},
   "source": [
    "Generate some node embeddings from the GraphSAGE layer stack"
   ]
  },
  {
   "cell_type": "code",
   "execution_count": 49,
   "id": "alleged-elite",
   "metadata": {},
   "outputs": [
    {
     "name": "stdout",
     "output_type": "stream",
     "text": [
      "(6, 2)\n",
      "[<tf.Tensor 'input_7:0' shape=(None, 1, 2) dtype=float32>, <tf.Tensor 'input_8:0' shape=(None, 10, 2) dtype=float32>, <tf.Tensor 'input_9:0' shape=(None, 50, 2) dtype=float32>]\n",
      "Tensor(\"lambda/l2_normalize_2:0\", shape=(None, 20), dtype=float32)\n"
     ]
    }
   ],
   "source": [
    "x_inp_src = x_inp[0::2]\n",
    "x_out_src = x_out[0]\n",
    "embedding_model = keras.Model(inputs=x_inp_src, outputs=x_out_src)\n",
    "print((len(x_inp), len(x_out)))\n",
    "print(x_inp_src)\n",
    "print(x_out_src)"
   ]
  },
  {
   "cell_type": "code",
   "execution_count": 33,
   "id": "hydraulic-palestinian",
   "metadata": {
    "scrolled": true
   },
   "outputs": [
    {
     "name": "stdout",
     "output_type": "stream",
     "text": [
      "1/1 [==============================] - 0s 97ms/step\n"
     ]
    }
   ],
   "source": [
    "node_ids = nodes_df.index.values.tolist()\n",
    "node_gen = GraphSAGENodeGenerator(nodes_edges_sg, batch_size, num_samples).flow(node_ids)\n",
    "node_embeddings = embedding_model.predict(node_gen, workers=4, verbose=1)"
   ]
  },
  {
   "cell_type": "code",
   "execution_count": 15,
   "id": "viral-tiger",
   "metadata": {
    "scrolled": true
   },
   "outputs": [
    {
     "name": "stdout",
     "output_type": "stream",
     "text": [
      "(10, 20)\n"
     ]
    }
   ],
   "source": [
    "print(node_embeddings.shape)"
   ]
  },
  {
   "cell_type": "markdown",
   "id": "favorite-charity",
   "metadata": {},
   "source": [
    "Use KMeans to look at embedding clusters"
   ]
  },
  {
   "cell_type": "code",
   "execution_count": 16,
   "id": "dedicated-uncle",
   "metadata": {
    "scrolled": true
   },
   "outputs": [
    {
     "name": "stdout",
     "output_type": "stream",
     "text": [
      "['n6', 'n7']\n",
      "['n1', 'n2']\n",
      "['n5', 'n8', 'n9']\n",
      "['n0', 'n3', 'n4']\n"
     ]
    }
   ],
   "source": [
    "X = node_embeddings\n",
    "kmeans = KMeans(n_clusters=4).fit(X)\n",
    "node_to_label = {x:y for x,y in zip(node_ids, kmeans.labels_)}\n",
    "for label in set(kmeans.labels_):\n",
    "    print([x for x, y in node_to_label.items() if y == label])"
   ]
  },
  {
   "cell_type": "code",
   "execution_count": 17,
   "id": "loved-reconstruction",
   "metadata": {},
   "outputs": [
    {
     "data": {
      "application/vnd.jupyter.widget-view+json": {
       "model_id": "a0ae6563609f4737982684bca013e44e",
       "version_major": 2,
       "version_minor": 0
      },
      "text/plain": [
       "CytoscapeWidget(cytoscape_layout={'name': 'cola'}, cytoscape_style=[{'selector': 'node', 'css': {'content': 'd…"
      ]
     },
     "metadata": {},
     "output_type": "display_data"
    }
   ],
   "source": [
    "cytoscapeobj = ic.CytoscapeWidget()\n",
    "cytoscapeobj.graph.add_graph_from_json(data)\n",
    "cytoscapeobj.set_style([{\n",
    "                            'selector': 'node',\n",
    "                            'css': {\n",
    "                                'content': 'data(id)',\n",
    "                                'text-valign': 'center',\n",
    "                                'color': 'black'\n",
    "                            }\n",
    "                        }])\n",
    "display(cytoscapeobj)"
   ]
  }
 ],
 "metadata": {
  "kernelspec": {
   "display_name": "Python 3",
   "language": "python",
   "name": "python3"
  },
  "language_info": {
   "codemirror_mode": {
    "name": "ipython",
    "version": 3
   },
   "file_extension": ".py",
   "mimetype": "text/x-python",
   "name": "python",
   "nbconvert_exporter": "python",
   "pygments_lexer": "ipython3",
   "version": "3.8.8"
  }
 },
 "nbformat": 4,
 "nbformat_minor": 5
}
