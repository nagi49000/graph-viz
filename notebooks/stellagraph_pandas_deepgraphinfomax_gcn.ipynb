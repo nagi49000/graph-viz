{
 "cells": [
  {
   "cell_type": "code",
   "execution_count": 21,
   "id": "reasonable-detection",
   "metadata": {},
   "outputs": [],
   "source": [
    "import ipycytoscape as ic  # visualise\n",
    "import pandas as pd\n",
    "import netaddr\n",
    "from stellargraph import StellarGraph\n",
    "import matplotlib.pyplot as plt\n",
    "from sklearn.cluster import KMeans  # sanity check embeddings\n",
    "from stellargraph.data import UnsupervisedSampler\n",
    "from stellargraph.mapper import CorruptedGenerator, FullBatchNodeGenerator\n",
    "from stellargraph.layer import GCN, DeepGraphInfomax\n",
    "import tensorflow as tf\n",
    "from tensorflow import keras\n",
    "from tensorflow.keras.callbacks import EarlyStopping"
   ]
  },
  {
   "cell_type": "markdown",
   "id": "three-anniversary",
   "metadata": {},
   "source": [
    "### Make some data\n",
    "\n",
    "Create some data in pandas for stellagraph ingestion. Using https://stellargraph.readthedocs.io/en/stable/demos/basics/loading-pandas.html"
   ]
  },
  {
   "cell_type": "code",
   "execution_count": 3,
   "id": "muslim-afternoon",
   "metadata": {},
   "outputs": [],
   "source": [
    "# cytoscape format\n",
    "data = {'nodes': \n",
    "         [{'data': {'id': 'n0', 'name': 'Node 0', 'ip': '192.168.0.10', 'mask': '255.255.255.0'}},\n",
    "          {'data': {'id': 'n1', 'name': 'Node 1', 'ip': '192.168.0.101', 'mask': '255.255.255.0'}},\n",
    "          {'data': {'id': 'n2', 'name': 'Node 2', 'ip': '192.168.0.9', 'mask': '255.255.255.0'}},\n",
    "          {'data': {'id': 'n3', 'name': 'Node 3', 'ip': '192.168.0.56', 'mask': '255.255.255.0'}},\n",
    "          {'data': {'id': 'n4', 'name': 'Node 4', 'ip': '192.168.0.12', 'mask': '255.255.255.0'}},\n",
    "          {'data': {'id': 'n5', 'name': 'Node 5', 'ip': '10.0.1.30', 'mask': '255.255.255.0'}},\n",
    "          {'data': {'id': 'n6', 'name': 'Node 6', 'ip': '10.0.1.56', 'mask': '255.255.255.0'}},\n",
    "          {'data': {'id': 'n7', 'name': 'Node 7', 'ip': '10.0.1.2', 'mask': '255.255.255.0'}},\n",
    "          {'data': {'id': 'n8', 'name': 'Node 8', 'ip': '10.0.1.102', 'mask': '255.255.255.0'}},\n",
    "          {'data': {'id': 'n9', 'name': 'Node 9', 'ip': '10.0.1.100', 'mask': '255.255.255.0'}}],\n",
    "        'edges': \n",
    "        [{'data': {'id': 'n0-n5', 'source': 'n0', 'target': 'n5'}},\n",
    "         {'data': {'id': 'n0-n1', 'source': 'n0', 'target': 'n1'}},\n",
    "         {'data': {'id': 'n0-n2', 'source': 'n0', 'target': 'n2'}},\n",
    "         {'data': {'id': 'n0-n8', 'source': 'n0', 'target': 'n8'}},\n",
    "         {'data': {'id': 'n0-n9', 'source': 'n0', 'target': 'n9'}},\n",
    "         {'data': {'id': 'n1-n2', 'source': 'n1', 'target': 'n2'}},\n",
    "         {'data': {'id': 'n8-n9', 'source': 'n8', 'target': 'n9'}},\n",
    "         {'data': {'id': 'n5-n3', 'source': 'n5', 'target': 'n3'}},\n",
    "         {'data': {'id': 'n5-n4', 'source': 'n5', 'target': 'n4'}},\n",
    "         {'data': {'id': 'n5-n6', 'source': 'n5', 'target': 'n6'}},\n",
    "         {'data': {'id': 'n5-n7', 'source': 'n5', 'target': 'n7'}},\n",
    "         {'data': {'id': 'n3-n4', 'source': 'n3', 'target': 'n4'}},\n",
    "         {'data': {'id': 'n6-n7', 'source': 'n6', 'target': 'n7'}}]\n",
    "       }"
   ]
  },
  {
   "cell_type": "code",
   "execution_count": 4,
   "id": "cooked-exchange",
   "metadata": {
    "scrolled": true
   },
   "outputs": [],
   "source": [
    "edges_df = pd.DataFrame([x['data'] for x in data['edges']])\n",
    "edges_df = edges_df.drop(['id'], axis=1)"
   ]
  },
  {
   "cell_type": "code",
   "execution_count": 5,
   "id": "processed-welsh",
   "metadata": {
    "scrolled": false
   },
   "outputs": [],
   "source": [
    "nodes_df = pd.DataFrame([x['data'] for x in data['nodes']])\n",
    "nodes_df = nodes_df.set_index(['id'])"
   ]
  },
  {
   "cell_type": "markdown",
   "id": "relative-little",
   "metadata": {},
   "source": [
    "StellarGraph only takes node features as a numerical type, so need to cast strings to numeric"
   ]
  },
  {
   "cell_type": "code",
   "execution_count": 6,
   "id": "nervous-azerbaijan",
   "metadata": {},
   "outputs": [
    {
     "data": {
      "text/html": [
       "<div>\n",
       "<style scoped>\n",
       "    .dataframe tbody tr th:only-of-type {\n",
       "        vertical-align: middle;\n",
       "    }\n",
       "\n",
       "    .dataframe tbody tr th {\n",
       "        vertical-align: top;\n",
       "    }\n",
       "\n",
       "    .dataframe thead th {\n",
       "        text-align: right;\n",
       "    }\n",
       "</style>\n",
       "<table border=\"1\" class=\"dataframe\">\n",
       "  <thead>\n",
       "    <tr style=\"text-align: right;\">\n",
       "      <th></th>\n",
       "      <th>ip_num</th>\n",
       "      <th>mask_num</th>\n",
       "    </tr>\n",
       "    <tr>\n",
       "      <th>id</th>\n",
       "      <th></th>\n",
       "      <th></th>\n",
       "    </tr>\n",
       "  </thead>\n",
       "  <tbody>\n",
       "    <tr>\n",
       "      <th>n0</th>\n",
       "      <td>3232235530</td>\n",
       "      <td>4294967040</td>\n",
       "    </tr>\n",
       "    <tr>\n",
       "      <th>n1</th>\n",
       "      <td>3232235621</td>\n",
       "      <td>4294967040</td>\n",
       "    </tr>\n",
       "    <tr>\n",
       "      <th>n2</th>\n",
       "      <td>3232235529</td>\n",
       "      <td>4294967040</td>\n",
       "    </tr>\n",
       "    <tr>\n",
       "      <th>n3</th>\n",
       "      <td>3232235576</td>\n",
       "      <td>4294967040</td>\n",
       "    </tr>\n",
       "    <tr>\n",
       "      <th>n4</th>\n",
       "      <td>3232235532</td>\n",
       "      <td>4294967040</td>\n",
       "    </tr>\n",
       "    <tr>\n",
       "      <th>n5</th>\n",
       "      <td>167772446</td>\n",
       "      <td>4294967040</td>\n",
       "    </tr>\n",
       "    <tr>\n",
       "      <th>n6</th>\n",
       "      <td>167772472</td>\n",
       "      <td>4294967040</td>\n",
       "    </tr>\n",
       "    <tr>\n",
       "      <th>n7</th>\n",
       "      <td>167772418</td>\n",
       "      <td>4294967040</td>\n",
       "    </tr>\n",
       "    <tr>\n",
       "      <th>n8</th>\n",
       "      <td>167772518</td>\n",
       "      <td>4294967040</td>\n",
       "    </tr>\n",
       "    <tr>\n",
       "      <th>n9</th>\n",
       "      <td>167772516</td>\n",
       "      <td>4294967040</td>\n",
       "    </tr>\n",
       "  </tbody>\n",
       "</table>\n",
       "</div>"
      ],
      "text/plain": [
       "        ip_num    mask_num\n",
       "id                        \n",
       "n0  3232235530  4294967040\n",
       "n1  3232235621  4294967040\n",
       "n2  3232235529  4294967040\n",
       "n3  3232235576  4294967040\n",
       "n4  3232235532  4294967040\n",
       "n5   167772446  4294967040\n",
       "n6   167772472  4294967040\n",
       "n7   167772418  4294967040\n",
       "n8   167772518  4294967040\n",
       "n9   167772516  4294967040"
      ]
     },
     "execution_count": 6,
     "metadata": {},
     "output_type": "execute_result"
    }
   ],
   "source": [
    "networks = [netaddr.IPNetwork(x[0] + '/' + x[1]) for x in zip(nodes_df['ip'], nodes_df['mask'])]\n",
    "nodes_df['ip_num'] = [int(x.ip.bits().replace('.',''), 2) for x in networks]\n",
    "nodes_df['mask_num'] = [int(x.netmask.bits().replace('.',''), 2) for x in networks]\n",
    "nodes_df = nodes_df.drop(['ip', 'mask', 'name'], axis=1)\n",
    "nodes_df"
   ]
  },
  {
   "cell_type": "code",
   "execution_count": 7,
   "id": "disciplinary-sailing",
   "metadata": {
    "scrolled": true
   },
   "outputs": [
    {
     "name": "stdout",
     "output_type": "stream",
     "text": [
      "StellarGraph: Undirected multigraph\n",
      " Nodes: 10, Edges: 13\n",
      "\n",
      " Node types:\n",
      "  default: [10]\n",
      "    Features: float32 vector, length 2\n",
      "    Edge types: default-default->default\n",
      "\n",
      " Edge types:\n",
      "    default-default->default: [13]\n",
      "        Weights: all 1 (default)\n",
      "        Features: none\n"
     ]
    }
   ],
   "source": [
    "nodes_edges_sg = StellarGraph(nodes_df, edges_df)\n",
    "print(nodes_edges_sg.info())"
   ]
  },
  {
   "cell_type": "markdown",
   "id": "inappropriate-magnet",
   "metadata": {},
   "source": [
    "### DeepGraphInfomax using GCN\n",
    "\n",
    "Here, we use a graph convolutional neural network (GCN) to convert the nodes to vector embeddings. Follows https://stellargraph.readthedocs.io/en/stable/demos/embeddings/deep-graph-infomax-embeddings.html"
   ]
  },
  {
   "cell_type": "code",
   "execution_count": 18,
   "id": "refined-construction",
   "metadata": {},
   "outputs": [
    {
     "name": "stdout",
     "output_type": "stream",
     "text": [
      "Using GCN (local pooling) filters...\n"
     ]
    }
   ],
   "source": [
    "fullbatch_generator = FullBatchNodeGenerator(nodes_edges_sg, sparse=False)\n",
    "gcn_model = GCN(layer_sizes=[128], activations=[\"relu\"], generator=fullbatch_generator)\n",
    "# layer size 128 gives the size of the embedding\n",
    "\n",
    "corrupted_generator = CorruptedGenerator(fullbatch_generator)\n",
    "train_gen = corrupted_generator.flow(nodes_edges_sg.nodes())"
   ]
  },
  {
   "cell_type": "code",
   "execution_count": 19,
   "id": "convertible-society",
   "metadata": {},
   "outputs": [],
   "source": [
    "infomax = DeepGraphInfomax(gcn_model, corrupted_generator)\n",
    "x_in, x_out = infomax.in_out_tensors()\n",
    "\n",
    "model = keras.Model(inputs=x_in, outputs=x_out)\n",
    "model.compile(\n",
    "    loss=tf.nn.sigmoid_cross_entropy_with_logits, \n",
    "    optimizer=keras.optimizers.Adam(lr=1e-3)\n",
    ")"
   ]
  },
  {
   "cell_type": "code",
   "execution_count": 22,
   "id": "regional-president",
   "metadata": {},
   "outputs": [
    {
     "name": "stdout",
     "output_type": "stream",
     "text": [
      "Epoch 1/100\n",
      "1/1 [==============================] - 0s 766us/step - loss: 393374880.0000\n",
      "Epoch 2/100\n",
      "1/1 [==============================] - 0s 771us/step - loss: 189316384.0000\n",
      "Epoch 3/100\n",
      "1/1 [==============================] - 0s 1ms/step - loss: 118317136.0000\n",
      "Epoch 4/100\n",
      "1/1 [==============================] - 0s 900us/step - loss: 94677656.0000\n",
      "Epoch 5/100\n",
      "1/1 [==============================] - 0s 636us/step - loss: 94982296.0000\n",
      "Epoch 6/100\n",
      "1/1 [==============================] - 0s 972us/step - loss: 84361192.0000\n",
      "Epoch 7/100\n",
      "1/1 [==============================] - 0s 604us/step - loss: 198440400.0000\n",
      "Epoch 8/100\n",
      "1/1 [==============================] - 0s 1ms/step - loss: 118575896.0000\n",
      "Epoch 9/100\n",
      "1/1 [==============================] - 0s 1ms/step - loss: 123823488.0000\n",
      "Epoch 10/100\n",
      "1/1 [==============================] - 0s 1ms/step - loss: 280082016.0000\n",
      "Epoch 11/100\n",
      "1/1 [==============================] - 0s 2ms/step - loss: 53169512.0000\n",
      "Epoch 12/100\n",
      "1/1 [==============================] - 0s 656us/step - loss: 150629472.0000\n",
      "Epoch 13/100\n",
      "1/1 [==============================] - 0s 1ms/step - loss: 200949168.0000\n",
      "Epoch 14/100\n",
      "1/1 [==============================] - 0s 899us/step - loss: 243529440.0000\n",
      "Epoch 15/100\n",
      "1/1 [==============================] - 0s 1ms/step - loss: 172914256.0000\n",
      "Epoch 16/100\n",
      "1/1 [==============================] - 0s 797us/step - loss: 110197504.0000\n",
      "Epoch 17/100\n",
      "1/1 [==============================] - 0s 629us/step - loss: 256415952.0000\n",
      "Epoch 18/100\n",
      "1/1 [==============================] - 0s 1ms/step - loss: 235081520.0000\n",
      "Epoch 19/100\n",
      "1/1 [==============================] - 0s 561us/step - loss: 144597664.0000\n",
      "Epoch 20/100\n",
      "1/1 [==============================] - 0s 781us/step - loss: 164087008.0000\n",
      "Epoch 21/100\n",
      "1/1 [==============================] - 0s 1ms/step - loss: 160489504.0000\n",
      "Epoch 22/100\n",
      "1/1 [==============================] - 0s 2ms/step - loss: 59975500.0000\n",
      "Epoch 23/100\n",
      "1/1 [==============================] - 0s 561us/step - loss: 130607824.0000\n",
      "Epoch 24/100\n",
      "1/1 [==============================] - 0s 581us/step - loss: 88850432.0000\n",
      "Epoch 25/100\n",
      "1/1 [==============================] - 0s 582us/step - loss: 90227024.0000\n",
      "Epoch 26/100\n",
      "1/1 [==============================] - 0s 734us/step - loss: 146060768.0000\n",
      "Epoch 27/100\n",
      "1/1 [==============================] - 0s 580us/step - loss: 201369568.0000\n",
      "Epoch 28/100\n",
      "1/1 [==============================] - 0s 2ms/step - loss: 25197748.0000\n",
      "Epoch 29/100\n",
      "1/1 [==============================] - 0s 2ms/step - loss: 250597792.0000\n",
      "Epoch 30/100\n",
      "1/1 [==============================] - 0s 556us/step - loss: 286790432.0000\n",
      "Epoch 31/100\n",
      "1/1 [==============================] - 0s 593us/step - loss: 187644240.0000\n",
      "Epoch 32/100\n",
      "1/1 [==============================] - 0s 617us/step - loss: 145656400.0000\n",
      "Epoch 33/100\n",
      "1/1 [==============================] - 0s 1ms/step - loss: 259296512.0000\n",
      "Epoch 34/100\n",
      "1/1 [==============================] - 0s 563us/step - loss: 257334400.0000\n",
      "Epoch 35/100\n",
      "1/1 [==============================] - 0s 575us/step - loss: 150266960.0000\n",
      "Epoch 36/100\n",
      "1/1 [==============================] - 0s 2ms/step - loss: 25927604.0000\n",
      "Epoch 37/100\n",
      "1/1 [==============================] - 0s 628us/step - loss: 335318368.0000\n",
      "Epoch 38/100\n",
      "1/1 [==============================] - 0s 644us/step - loss: 263214720.0000\n",
      "Epoch 39/100\n",
      "1/1 [==============================] - 0s 569us/step - loss: 34138188.0000\n",
      "Epoch 40/100\n",
      "1/1 [==============================] - 0s 589us/step - loss: 129933208.0000\n",
      "Epoch 41/100\n",
      "1/1 [==============================] - 0s 623us/step - loss: 129670224.0000\n",
      "Epoch 42/100\n",
      "1/1 [==============================] - 0s 529us/step - loss: 126693096.0000\n",
      "Epoch 43/100\n",
      "1/1 [==============================] - 0s 854us/step - loss: 47515828.0000\n",
      "Epoch 44/100\n",
      "1/1 [==============================] - 0s 546us/step - loss: 155276512.0000\n",
      "Epoch 45/100\n",
      "1/1 [==============================] - 0s 829us/step - loss: 37393640.0000\n",
      "Epoch 46/100\n",
      "1/1 [==============================] - 0s 877us/step - loss: 51420056.0000\n",
      "Epoch 47/100\n",
      "1/1 [==============================] - 0s 714us/step - loss: 50782232.0000\n",
      "Epoch 48/100\n",
      "1/1 [==============================] - 0s 841us/step - loss: 108848560.0000\n"
     ]
    }
   ],
   "source": [
    "epochs = 100\n",
    "es = EarlyStopping(monitor=\"loss\", min_delta=0, patience=20)\n",
    "history = model.fit(\n",
    "    train_gen, \n",
    "    epochs=epochs,    \n",
    "    verbose=1,\n",
    "    use_multiprocessing=False,\n",
    "    workers=4,\n",
    "    shuffle=True,\n",
    "    callbacks=[es]   \n",
    ")"
   ]
  },
  {
   "cell_type": "markdown",
   "id": "planned-probability",
   "metadata": {},
   "source": [
    "### Embedding model"
   ]
  },
  {
   "cell_type": "code",
   "execution_count": 23,
   "id": "affiliated-session",
   "metadata": {},
   "outputs": [],
   "source": [
    "x_emb_in, x_emb_out = gcn_model.in_out_tensors()\n",
    "\n",
    "# for full batch models, squeeze out the batch dim (which is 1)\n",
    "x_out = tf.squeeze(x_emb_out, axis=0)\n",
    "emb_model = keras.Model(inputs=x_emb_in, outputs=x_out)"
   ]
  },
  {
   "cell_type": "code",
   "execution_count": 29,
   "id": "bibliographic-silence",
   "metadata": {},
   "outputs": [
    {
     "data": {
      "text/plain": [
       "128"
      ]
     },
     "execution_count": 29,
     "metadata": {},
     "output_type": "execute_result"
    }
   ],
   "source": [
    "node_embeddings = emb_model.predict(fullbatch_generator.flow(nodes_edges_sg.nodes()))\n",
    "len(node_embeddings[0])"
   ]
  },
  {
   "cell_type": "code",
   "execution_count": 30,
   "id": "hydraulic-palestinian",
   "metadata": {
    "scrolled": true
   },
   "outputs": [],
   "source": [
    "node_ids = nodes_df.index.values.tolist()"
   ]
  },
  {
   "cell_type": "code",
   "execution_count": 31,
   "id": "viral-tiger",
   "metadata": {
    "scrolled": true
   },
   "outputs": [
    {
     "name": "stdout",
     "output_type": "stream",
     "text": [
      "(10, 128)\n"
     ]
    }
   ],
   "source": [
    "print(node_embeddings.shape)"
   ]
  },
  {
   "cell_type": "markdown",
   "id": "favorite-charity",
   "metadata": {},
   "source": [
    "Use KMeans to look at embedding clusters"
   ]
  },
  {
   "cell_type": "code",
   "execution_count": 32,
   "id": "dedicated-uncle",
   "metadata": {
    "scrolled": true
   },
   "outputs": [
    {
     "name": "stdout",
     "output_type": "stream",
     "text": [
      "['n6', 'n7']\n",
      "['n1', 'n2', 'n3', 'n4']\n",
      "['n0', 'n5']\n",
      "['n8', 'n9']\n"
     ]
    }
   ],
   "source": [
    "X = node_embeddings\n",
    "kmeans = KMeans(n_clusters=4).fit(X)\n",
    "node_to_label = {x:y for x,y in zip(node_ids, kmeans.labels_)}\n",
    "for label in set(kmeans.labels_):\n",
    "    print([x for x, y in node_to_label.items() if y == label])"
   ]
  },
  {
   "cell_type": "code",
   "execution_count": 33,
   "id": "loved-reconstruction",
   "metadata": {},
   "outputs": [
    {
     "data": {
      "application/vnd.jupyter.widget-view+json": {
       "model_id": "60c89023d6734c6da940ab469682709e",
       "version_major": 2,
       "version_minor": 0
      },
      "text/plain": [
       "CytoscapeWidget(cytoscape_layout={'name': 'cola'}, cytoscape_style=[{'selector': 'node', 'css': {'content': 'd…"
      ]
     },
     "metadata": {},
     "output_type": "display_data"
    }
   ],
   "source": [
    "cytoscapeobj = ic.CytoscapeWidget()\n",
    "cytoscapeobj.graph.add_graph_from_json(data)\n",
    "cytoscapeobj.set_style([{\n",
    "                            'selector': 'node',\n",
    "                            'css': {\n",
    "                                'content': 'data(id)',\n",
    "                                'text-valign': 'center',\n",
    "                                'color': 'black'\n",
    "                            }\n",
    "                        }])\n",
    "display(cytoscapeobj)"
   ]
  }
 ],
 "metadata": {
  "kernelspec": {
   "display_name": "Python 3",
   "language": "python",
   "name": "python3"
  },
  "language_info": {
   "codemirror_mode": {
    "name": "ipython",
    "version": 3
   },
   "file_extension": ".py",
   "mimetype": "text/x-python",
   "name": "python",
   "nbconvert_exporter": "python",
   "pygments_lexer": "ipython3",
   "version": "3.8.8"
  }
 },
 "nbformat": 4,
 "nbformat_minor": 5
}
