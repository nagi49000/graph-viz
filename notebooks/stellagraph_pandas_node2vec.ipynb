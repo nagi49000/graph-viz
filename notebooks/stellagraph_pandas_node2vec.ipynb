{
 "cells": [
  {
   "cell_type": "code",
   "execution_count": 1,
   "id": "reasonable-detection",
   "metadata": {},
   "outputs": [],
   "source": [
    "import ipycytoscape as ic  # visualise\n",
    "import pandas as pd\n",
    "import netaddr\n",
    "from stellargraph import StellarGraph\n",
    "import matplotlib.pyplot as plt\n",
    "from sklearn.cluster import KMeans  # sanity check node2vec embeddings\n",
    "from stellargraph.data import BiasedRandomWalk  # for node2vec\n",
    "from gensim.models import Word2Vec  # for node2vec\n",
    "from sklearn.manifold import TSNE  # for viewing embeddings form node2vec"
   ]
  },
  {
   "cell_type": "markdown",
   "id": "three-anniversary",
   "metadata": {},
   "source": [
    "Create some data in pandas for stellagraph ingestion. Using https://stellargraph.readthedocs.io/en/stable/demos/basics/loading-pandas.html"
   ]
  },
  {
   "cell_type": "code",
   "execution_count": 2,
   "id": "muslim-afternoon",
   "metadata": {},
   "outputs": [],
   "source": [
    "# cytoscape format, taken from spectral_clustering notebook\n",
    "data = {'nodes': \n",
    "         [{'data': {'id': 'n0', 'name': 'Node 0', 'ip': '192.168.0.10', 'mask': '255.255.255.0'}},\n",
    "          {'data': {'id': 'n1', 'name': 'Node 1', 'ip': '192.168.0.101', 'mask': '255.255.255.0'}},\n",
    "          {'data': {'id': 'n2', 'name': 'Node 2', 'ip': '192.168.0.9', 'mask': '255.255.255.0'}},\n",
    "          {'data': {'id': 'n3', 'name': 'Node 3', 'ip': '192.168.0.56', 'mask': '255.255.255.0'}},\n",
    "          {'data': {'id': 'n4', 'name': 'Node 4', 'ip': '192.168.0.12', 'mask': '255.255.255.0'}},\n",
    "          {'data': {'id': 'n5', 'name': 'Node 5', 'ip': '10.0.1.30', 'mask': '255.255.255.0'}},\n",
    "          {'data': {'id': 'n6', 'name': 'Node 6', 'ip': '10.0.1.56', 'mask': '255.255.255.0'}},\n",
    "          {'data': {'id': 'n7', 'name': 'Node 7', 'ip': '10.0.1.2', 'mask': '255.255.255.0'}},\n",
    "          {'data': {'id': 'n8', 'name': 'Node 8', 'ip': '10.0.1.102', 'mask': '255.255.255.0'}},\n",
    "          {'data': {'id': 'n9', 'name': 'Node 9', 'ip': '10.0.1.100', 'mask': '255.255.255.0'}}],\n",
    "        'edges': \n",
    "        [{'data': {'id': 'n0-n5', 'source': 'n0', 'target': 'n5'}},\n",
    "         {'data': {'id': 'n0-n1', 'source': 'n0', 'target': 'n1'}},\n",
    "         {'data': {'id': 'n0-n2', 'source': 'n0', 'target': 'n2'}},\n",
    "         {'data': {'id': 'n0-n8', 'source': 'n0', 'target': 'n8'}},\n",
    "         {'data': {'id': 'n0-n9', 'source': 'n0', 'target': 'n9'}},\n",
    "         {'data': {'id': 'n1-n2', 'source': 'n1', 'target': 'n2'}},\n",
    "         {'data': {'id': 'n8-n9', 'source': 'n8', 'target': 'n9'}},\n",
    "         {'data': {'id': 'n5-n3', 'source': 'n5', 'target': 'n3'}},\n",
    "         {'data': {'id': 'n5-n4', 'source': 'n5', 'target': 'n4'}},\n",
    "         {'data': {'id': 'n5-n6', 'source': 'n5', 'target': 'n6'}},\n",
    "         {'data': {'id': 'n5-n7', 'source': 'n5', 'target': 'n7'}},\n",
    "         {'data': {'id': 'n3-n4', 'source': 'n3', 'target': 'n4'}},\n",
    "         {'data': {'id': 'n6-n7', 'source': 'n6', 'target': 'n7'}}]\n",
    "       }"
   ]
  },
  {
   "cell_type": "code",
   "execution_count": 3,
   "id": "cooked-exchange",
   "metadata": {},
   "outputs": [
    {
     "data": {
      "text/html": [
       "<div>\n",
       "<style scoped>\n",
       "    .dataframe tbody tr th:only-of-type {\n",
       "        vertical-align: middle;\n",
       "    }\n",
       "\n",
       "    .dataframe tbody tr th {\n",
       "        vertical-align: top;\n",
       "    }\n",
       "\n",
       "    .dataframe thead th {\n",
       "        text-align: right;\n",
       "    }\n",
       "</style>\n",
       "<table border=\"1\" class=\"dataframe\">\n",
       "  <thead>\n",
       "    <tr style=\"text-align: right;\">\n",
       "      <th></th>\n",
       "      <th>source</th>\n",
       "      <th>target</th>\n",
       "    </tr>\n",
       "  </thead>\n",
       "  <tbody>\n",
       "    <tr>\n",
       "      <th>0</th>\n",
       "      <td>n0</td>\n",
       "      <td>n5</td>\n",
       "    </tr>\n",
       "    <tr>\n",
       "      <th>1</th>\n",
       "      <td>n0</td>\n",
       "      <td>n1</td>\n",
       "    </tr>\n",
       "    <tr>\n",
       "      <th>2</th>\n",
       "      <td>n0</td>\n",
       "      <td>n2</td>\n",
       "    </tr>\n",
       "    <tr>\n",
       "      <th>3</th>\n",
       "      <td>n0</td>\n",
       "      <td>n8</td>\n",
       "    </tr>\n",
       "    <tr>\n",
       "      <th>4</th>\n",
       "      <td>n0</td>\n",
       "      <td>n9</td>\n",
       "    </tr>\n",
       "    <tr>\n",
       "      <th>5</th>\n",
       "      <td>n1</td>\n",
       "      <td>n2</td>\n",
       "    </tr>\n",
       "    <tr>\n",
       "      <th>6</th>\n",
       "      <td>n8</td>\n",
       "      <td>n9</td>\n",
       "    </tr>\n",
       "    <tr>\n",
       "      <th>7</th>\n",
       "      <td>n5</td>\n",
       "      <td>n3</td>\n",
       "    </tr>\n",
       "    <tr>\n",
       "      <th>8</th>\n",
       "      <td>n5</td>\n",
       "      <td>n4</td>\n",
       "    </tr>\n",
       "    <tr>\n",
       "      <th>9</th>\n",
       "      <td>n5</td>\n",
       "      <td>n6</td>\n",
       "    </tr>\n",
       "    <tr>\n",
       "      <th>10</th>\n",
       "      <td>n5</td>\n",
       "      <td>n7</td>\n",
       "    </tr>\n",
       "    <tr>\n",
       "      <th>11</th>\n",
       "      <td>n3</td>\n",
       "      <td>n4</td>\n",
       "    </tr>\n",
       "    <tr>\n",
       "      <th>12</th>\n",
       "      <td>n6</td>\n",
       "      <td>n7</td>\n",
       "    </tr>\n",
       "  </tbody>\n",
       "</table>\n",
       "</div>"
      ],
      "text/plain": [
       "   source target\n",
       "0      n0     n5\n",
       "1      n0     n1\n",
       "2      n0     n2\n",
       "3      n0     n8\n",
       "4      n0     n9\n",
       "5      n1     n2\n",
       "6      n8     n9\n",
       "7      n5     n3\n",
       "8      n5     n4\n",
       "9      n5     n6\n",
       "10     n5     n7\n",
       "11     n3     n4\n",
       "12     n6     n7"
      ]
     },
     "execution_count": 3,
     "metadata": {},
     "output_type": "execute_result"
    }
   ],
   "source": [
    "edges_df = pd.DataFrame([x['data'] for x in data['edges']])\n",
    "edges_df = edges_df.drop(['id'], axis=1)\n",
    "edges_df"
   ]
  },
  {
   "cell_type": "code",
   "execution_count": 4,
   "id": "processed-welsh",
   "metadata": {
    "scrolled": false
   },
   "outputs": [
    {
     "data": {
      "text/html": [
       "<div>\n",
       "<style scoped>\n",
       "    .dataframe tbody tr th:only-of-type {\n",
       "        vertical-align: middle;\n",
       "    }\n",
       "\n",
       "    .dataframe tbody tr th {\n",
       "        vertical-align: top;\n",
       "    }\n",
       "\n",
       "    .dataframe thead th {\n",
       "        text-align: right;\n",
       "    }\n",
       "</style>\n",
       "<table border=\"1\" class=\"dataframe\">\n",
       "  <thead>\n",
       "    <tr style=\"text-align: right;\">\n",
       "      <th></th>\n",
       "      <th>name</th>\n",
       "      <th>ip</th>\n",
       "      <th>mask</th>\n",
       "    </tr>\n",
       "    <tr>\n",
       "      <th>id</th>\n",
       "      <th></th>\n",
       "      <th></th>\n",
       "      <th></th>\n",
       "    </tr>\n",
       "  </thead>\n",
       "  <tbody>\n",
       "    <tr>\n",
       "      <th>n0</th>\n",
       "      <td>Node 0</td>\n",
       "      <td>192.168.0.10</td>\n",
       "      <td>255.255.255.0</td>\n",
       "    </tr>\n",
       "    <tr>\n",
       "      <th>n1</th>\n",
       "      <td>Node 1</td>\n",
       "      <td>192.168.0.101</td>\n",
       "      <td>255.255.255.0</td>\n",
       "    </tr>\n",
       "    <tr>\n",
       "      <th>n2</th>\n",
       "      <td>Node 2</td>\n",
       "      <td>192.168.0.9</td>\n",
       "      <td>255.255.255.0</td>\n",
       "    </tr>\n",
       "    <tr>\n",
       "      <th>n3</th>\n",
       "      <td>Node 3</td>\n",
       "      <td>192.168.0.56</td>\n",
       "      <td>255.255.255.0</td>\n",
       "    </tr>\n",
       "    <tr>\n",
       "      <th>n4</th>\n",
       "      <td>Node 4</td>\n",
       "      <td>192.168.0.12</td>\n",
       "      <td>255.255.255.0</td>\n",
       "    </tr>\n",
       "    <tr>\n",
       "      <th>n5</th>\n",
       "      <td>Node 5</td>\n",
       "      <td>10.0.1.30</td>\n",
       "      <td>255.255.255.0</td>\n",
       "    </tr>\n",
       "    <tr>\n",
       "      <th>n6</th>\n",
       "      <td>Node 6</td>\n",
       "      <td>10.0.1.56</td>\n",
       "      <td>255.255.255.0</td>\n",
       "    </tr>\n",
       "    <tr>\n",
       "      <th>n7</th>\n",
       "      <td>Node 7</td>\n",
       "      <td>10.0.1.2</td>\n",
       "      <td>255.255.255.0</td>\n",
       "    </tr>\n",
       "    <tr>\n",
       "      <th>n8</th>\n",
       "      <td>Node 8</td>\n",
       "      <td>10.0.1.102</td>\n",
       "      <td>255.255.255.0</td>\n",
       "    </tr>\n",
       "    <tr>\n",
       "      <th>n9</th>\n",
       "      <td>Node 9</td>\n",
       "      <td>10.0.1.100</td>\n",
       "      <td>255.255.255.0</td>\n",
       "    </tr>\n",
       "  </tbody>\n",
       "</table>\n",
       "</div>"
      ],
      "text/plain": [
       "      name             ip           mask\n",
       "id                                      \n",
       "n0  Node 0   192.168.0.10  255.255.255.0\n",
       "n1  Node 1  192.168.0.101  255.255.255.0\n",
       "n2  Node 2    192.168.0.9  255.255.255.0\n",
       "n3  Node 3   192.168.0.56  255.255.255.0\n",
       "n4  Node 4   192.168.0.12  255.255.255.0\n",
       "n5  Node 5      10.0.1.30  255.255.255.0\n",
       "n6  Node 6      10.0.1.56  255.255.255.0\n",
       "n7  Node 7       10.0.1.2  255.255.255.0\n",
       "n8  Node 8     10.0.1.102  255.255.255.0\n",
       "n9  Node 9     10.0.1.100  255.255.255.0"
      ]
     },
     "execution_count": 4,
     "metadata": {},
     "output_type": "execute_result"
    }
   ],
   "source": [
    "nodes_df = pd.DataFrame([x['data'] for x in data['nodes']])\n",
    "nodes_df = nodes_df.set_index(['id'])\n",
    "nodes_df"
   ]
  },
  {
   "cell_type": "markdown",
   "id": "relative-little",
   "metadata": {},
   "source": [
    "StellarGraph only takes node features as a numerical type, so need to cast strings to numeric"
   ]
  },
  {
   "cell_type": "code",
   "execution_count": 5,
   "id": "nervous-azerbaijan",
   "metadata": {},
   "outputs": [
    {
     "data": {
      "text/html": [
       "<div>\n",
       "<style scoped>\n",
       "    .dataframe tbody tr th:only-of-type {\n",
       "        vertical-align: middle;\n",
       "    }\n",
       "\n",
       "    .dataframe tbody tr th {\n",
       "        vertical-align: top;\n",
       "    }\n",
       "\n",
       "    .dataframe thead th {\n",
       "        text-align: right;\n",
       "    }\n",
       "</style>\n",
       "<table border=\"1\" class=\"dataframe\">\n",
       "  <thead>\n",
       "    <tr style=\"text-align: right;\">\n",
       "      <th></th>\n",
       "      <th>ip_num</th>\n",
       "      <th>mask_num</th>\n",
       "    </tr>\n",
       "    <tr>\n",
       "      <th>id</th>\n",
       "      <th></th>\n",
       "      <th></th>\n",
       "    </tr>\n",
       "  </thead>\n",
       "  <tbody>\n",
       "    <tr>\n",
       "      <th>n0</th>\n",
       "      <td>3232235530</td>\n",
       "      <td>4294967040</td>\n",
       "    </tr>\n",
       "    <tr>\n",
       "      <th>n1</th>\n",
       "      <td>3232235621</td>\n",
       "      <td>4294967040</td>\n",
       "    </tr>\n",
       "    <tr>\n",
       "      <th>n2</th>\n",
       "      <td>3232235529</td>\n",
       "      <td>4294967040</td>\n",
       "    </tr>\n",
       "    <tr>\n",
       "      <th>n3</th>\n",
       "      <td>3232235576</td>\n",
       "      <td>4294967040</td>\n",
       "    </tr>\n",
       "    <tr>\n",
       "      <th>n4</th>\n",
       "      <td>3232235532</td>\n",
       "      <td>4294967040</td>\n",
       "    </tr>\n",
       "    <tr>\n",
       "      <th>n5</th>\n",
       "      <td>167772446</td>\n",
       "      <td>4294967040</td>\n",
       "    </tr>\n",
       "    <tr>\n",
       "      <th>n6</th>\n",
       "      <td>167772472</td>\n",
       "      <td>4294967040</td>\n",
       "    </tr>\n",
       "    <tr>\n",
       "      <th>n7</th>\n",
       "      <td>167772418</td>\n",
       "      <td>4294967040</td>\n",
       "    </tr>\n",
       "    <tr>\n",
       "      <th>n8</th>\n",
       "      <td>167772518</td>\n",
       "      <td>4294967040</td>\n",
       "    </tr>\n",
       "    <tr>\n",
       "      <th>n9</th>\n",
       "      <td>167772516</td>\n",
       "      <td>4294967040</td>\n",
       "    </tr>\n",
       "  </tbody>\n",
       "</table>\n",
       "</div>"
      ],
      "text/plain": [
       "        ip_num    mask_num\n",
       "id                        \n",
       "n0  3232235530  4294967040\n",
       "n1  3232235621  4294967040\n",
       "n2  3232235529  4294967040\n",
       "n3  3232235576  4294967040\n",
       "n4  3232235532  4294967040\n",
       "n5   167772446  4294967040\n",
       "n6   167772472  4294967040\n",
       "n7   167772418  4294967040\n",
       "n8   167772518  4294967040\n",
       "n9   167772516  4294967040"
      ]
     },
     "execution_count": 5,
     "metadata": {},
     "output_type": "execute_result"
    }
   ],
   "source": [
    "networks = [netaddr.IPNetwork(x[0]+'/'+x[1]) for x in zip(nodes_df['ip'], nodes_df['mask'])]\n",
    "nodes_df['ip_num'] = [int(x.ip.bits().replace('.',''), 2) for x in networks]\n",
    "nodes_df['mask_num'] = [int(x.netmask.bits().replace('.',''), 2) for x in networks]\n",
    "nodes_df = nodes_df.drop(['ip', 'mask', 'name'], axis=1)\n",
    "nodes_df"
   ]
  },
  {
   "cell_type": "code",
   "execution_count": 6,
   "id": "disciplinary-sailing",
   "metadata": {
    "scrolled": false
   },
   "outputs": [
    {
     "name": "stdout",
     "output_type": "stream",
     "text": [
      "StellarGraph: Undirected multigraph\n",
      " Nodes: 10, Edges: 13\n",
      "\n",
      " Node types:\n",
      "  default: [10]\n",
      "    Features: float32 vector, length 2\n",
      "    Edge types: default-default->default\n",
      "\n",
      " Edge types:\n",
      "    default-default->default: [13]\n",
      "        Weights: all 1 (default)\n",
      "        Features: none\n"
     ]
    }
   ],
   "source": [
    "nodes_edges_sg = StellarGraph(nodes_df, edges_df)\n",
    "print(nodes_edges_sg.info())"
   ]
  },
  {
   "cell_type": "markdown",
   "id": "inappropriate-magnet",
   "metadata": {},
   "source": [
    "### Node2Vec\n",
    "\n",
    "Here, we use node2vec to convert the nodes to vector embeddings. These embeddings do not use any of the node/edge features.\n",
    "\n",
    "Node2Vec first stage - generate some 'sentences' from random walks around the graph. The sentences are made up of words that are the node ids."
   ]
  },
  {
   "cell_type": "code",
   "execution_count": 7,
   "id": "guided-replacement",
   "metadata": {},
   "outputs": [
    {
     "name": "stdout",
     "output_type": "stream",
     "text": [
      "Number of random walks: 120\n"
     ]
    }
   ],
   "source": [
    "rw = BiasedRandomWalk(nodes_edges_sg)\n",
    "walks = rw.run(\n",
    "    nodes=list(nodes_edges_sg.nodes()),  # root nodes\n",
    "    length=100,  # maximum length of a random walk\n",
    "    n=12,  # number of random walks per root node\n",
    "    p=0.5,  # Defines (unormalised) probability, 1/p, of returning to source node\n",
    "    q=2.0,  # Defines (unormalised) probability, 1/q, for moving away from source node\n",
    ")\n",
    "print(\"Number of random walks: {}\".format(len(walks)))"
   ]
  },
  {
   "cell_type": "markdown",
   "id": "handmade-links",
   "metadata": {},
   "source": [
    "Node2Vec second stage - convert sentences to vectors using Word2Vec. Using quite a small size here, since the size of the data is small"
   ]
  },
  {
   "cell_type": "code",
   "execution_count": 8,
   "id": "blond-stewart",
   "metadata": {
    "scrolled": true
   },
   "outputs": [
    {
     "data": {
      "text/plain": [
       "['n0', 'n5', 'n7', 'n6', 'n7']"
      ]
     },
     "execution_count": 8,
     "metadata": {},
     "output_type": "execute_result"
    }
   ],
   "source": [
    "str_walks = [[str(n) for n in walk] for walk in walks]\n",
    "str_walks[0][:5]"
   ]
  },
  {
   "cell_type": "code",
   "execution_count": 9,
   "id": "developed-basket",
   "metadata": {
    "scrolled": true
   },
   "outputs": [
    {
     "data": {
      "text/plain": [
       "array([ 0.17544858, -0.4518959 , -0.38296   , -0.37732312, -0.2734629 ,\n",
       "        0.12075267, -0.40905276,  0.15864886, -0.52324057, -0.70424616,\n",
       "       -0.31290355, -0.01093763,  0.10784699, -0.14036435, -0.34100693,\n",
       "        0.06569256], dtype=float32)"
      ]
     },
     "execution_count": 9,
     "metadata": {},
     "output_type": "execute_result"
    }
   ],
   "source": [
    "model = Word2Vec(str_walks, size=16, window=5, min_count=0, sg=1, workers=2, iter=1)\n",
    "model.wv[\"n0\"]"
   ]
  },
  {
   "cell_type": "markdown",
   "id": "favorite-charity",
   "metadata": {},
   "source": [
    "Use KMeans to look at embedding clusters"
   ]
  },
  {
   "cell_type": "code",
   "execution_count": 14,
   "id": "dedicated-uncle",
   "metadata": {
    "scrolled": true
   },
   "outputs": [
    {
     "name": "stdout",
     "output_type": "stream",
     "text": [
      "['n0', 'n1']\n",
      "['n5', 'n6', 'n4', 'n7']\n",
      "['n2', 'n9', 'n8']\n",
      "['n3']\n"
     ]
    }
   ],
   "source": [
    "X = (model.wv.vectors)\n",
    "kmeans = KMeans(n_clusters=4).fit(X)\n",
    "node_to_label = {x:y for x,y in zip(model.wv.index2word, kmeans.labels_)}\n",
    "for label in set(kmeans.labels_):\n",
    "    print([x for x, y in node_to_label.items() if y == label])"
   ]
  },
  {
   "cell_type": "code",
   "execution_count": 13,
   "id": "loved-reconstruction",
   "metadata": {},
   "outputs": [
    {
     "data": {
      "application/vnd.jupyter.widget-view+json": {
       "model_id": "69afde132bcd4cf9a568c197fa73f598",
       "version_major": 2,
       "version_minor": 0
      },
      "text/plain": [
       "CytoscapeWidget(cytoscape_layout={'name': 'cola'}, cytoscape_style=[{'selector': 'node', 'css': {'content': 'd…"
      ]
     },
     "metadata": {},
     "output_type": "display_data"
    }
   ],
   "source": [
    "cytoscapeobj = ic.CytoscapeWidget()\n",
    "cytoscapeobj.graph.add_graph_from_json(data)\n",
    "cytoscapeobj.set_style([{\n",
    "                            'selector': 'node',\n",
    "                            'css': {\n",
    "                                'content': 'data(id)',\n",
    "                                'text-valign': 'center',\n",
    "                                'color': 'black'\n",
    "                            }\n",
    "                        }])\n",
    "display(cytoscapeobj)"
   ]
  }
 ],
 "metadata": {
  "kernelspec": {
   "display_name": "Python 3",
   "language": "python",
   "name": "python3"
  },
  "language_info": {
   "codemirror_mode": {
    "name": "ipython",
    "version": 3
   },
   "file_extension": ".py",
   "mimetype": "text/x-python",
   "name": "python",
   "nbconvert_exporter": "python",
   "pygments_lexer": "ipython3",
   "version": "3.8.8"
  }
 },
 "nbformat": 4,
 "nbformat_minor": 5
}
