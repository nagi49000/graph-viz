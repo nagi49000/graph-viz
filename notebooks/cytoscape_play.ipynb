{
 "cells": [
  {
   "cell_type": "code",
   "execution_count": 1,
   "metadata": {},
   "outputs": [],
   "source": [
    "import ipycytoscape as ic\n",
    "import networkx as nx\n",
    "import pandas as pd\n",
    "import pprint\n",
    "pretty = pprint.PrettyPrinter()"
   ]
  },
  {
   "cell_type": "code",
   "execution_count": 2,
   "metadata": {
    "scrolled": false
   },
   "outputs": [
    {
     "data": {
      "application/vnd.jupyter.widget-view+json": {
       "model_id": "509f4b8497804b4882cf9adf32c347cb",
       "version_major": 2,
       "version_minor": 0
      },
      "text/plain": [
       "CytoscapeWidget(cytoscape_layout={'name': 'cola'}, cytoscape_style=[{'selector': 'node', 'css': {'background-c…"
      ]
     },
     "metadata": {},
     "output_type": "display_data"
    }
   ],
   "source": [
    "cytoscapeobj = ic.CytoscapeWidget()\n",
    "display(cytoscapeobj)"
   ]
  },
  {
   "cell_type": "code",
   "execution_count": 3,
   "metadata": {},
   "outputs": [
    {
     "data": {
      "text/plain": [
       "[{'selector': 'node', 'css': {'background-color': '#11479e'}},\n",
       " {'selector': 'node:parent', 'css': {'background-opacity': 0.333}},\n",
       " {'selector': 'edge', 'style': {'width': 4, 'line-color': '#9dbaea'}},\n",
       " {'selector': 'edge.directed',\n",
       "  'style': {'curve-style': 'bezier',\n",
       "   'target-arrow-shape': 'triangle',\n",
       "   'target-arrow-color': '#9dbaea'}},\n",
       " {'selector': 'edge.multiple_edges', 'style': {'curve-style': 'bezier'}}]"
      ]
     },
     "execution_count": 3,
     "metadata": {},
     "output_type": "execute_result"
    }
   ],
   "source": [
    "cytoscapeobj.get_style()"
   ]
  },
  {
   "cell_type": "code",
   "execution_count": 4,
   "metadata": {
    "scrolled": false
   },
   "outputs": [],
   "source": [
    "cytoscapeobj.graph.add_graph_from_networkx(nx.complete_graph(4))"
   ]
  },
  {
   "cell_type": "code",
   "execution_count": 5,
   "metadata": {
    "scrolled": true
   },
   "outputs": [
    {
     "data": {
      "text/plain": [
       "[Node(data={'id': '0'}, position={}),\n",
       " Node(data={'id': '1'}, position={}),\n",
       " Node(data={'id': '2'}, position={}),\n",
       " Node(data={'id': '3'}, position={}),\n",
       " Node(data={'id': 'manual_0', 'name': 'Manual 0'}, position={})]"
      ]
     },
     "execution_count": 5,
     "metadata": {},
     "output_type": "execute_result"
    }
   ],
   "source": [
    "cytoscapeobj.graph.add_node(ic.cytoscape.Node(data={'id': 'manual_0', 'name': 'Manual 0'}))\n",
    "cytoscapeobj.graph.nodes"
   ]
  },
  {
   "cell_type": "code",
   "execution_count": 6,
   "metadata": {
    "scrolled": false
   },
   "outputs": [
    {
     "data": {
      "text/plain": [
       "[Edge(data={'source': '0', 'target': '1'}, position={}),\n",
       " Edge(data={'source': '0', 'target': '2'}, position={}),\n",
       " Edge(data={'source': '0', 'target': '3'}, position={}),\n",
       " Edge(data={'source': '1', 'target': '2'}, position={}),\n",
       " Edge(data={'source': '1', 'target': '3'}, position={}),\n",
       " Edge(data={'source': '2', 'target': '3'}, position={}),\n",
       " Edge(data={'source': 'manual_0', 'target': '3'}, position={})]"
      ]
     },
     "execution_count": 6,
     "metadata": {},
     "output_type": "execute_result"
    }
   ],
   "source": [
    "cytoscapeobj.graph.add_edge(ic.cytoscape.Edge(data={'source': 'manual_0', 'target': '3'}))\n",
    "cytoscapeobj.graph.edges"
   ]
  },
  {
   "cell_type": "code",
   "execution_count": 7,
   "metadata": {
    "scrolled": true
   },
   "outputs": [
    {
     "name": "stdout",
     "output_type": "stream",
     "text": [
      "     id  name                 targets\n",
      "0  pd_0  PD 0                      []\n",
      "1  pd_1  PD 1                      []\n",
      "2  pd_2  PD 2  [pd_0, pd_1, manual_0]\n"
     ]
    }
   ],
   "source": [
    "df = pd.DataFrame([{'id': 'pd_0', 'name': 'PD 0', 'targets': []}, {'id': 'pd_1', 'name': 'PD 1', 'targets': [] },{'id': 'pd_2', 'name': 'PD 2', 'targets': ['pd_0', 'pd_1', 'manual_0']}])\n",
    "print(df)"
   ]
  },
  {
   "cell_type": "code",
   "execution_count": 8,
   "metadata": {},
   "outputs": [
    {
     "name": "stdout",
     "output_type": "stream",
     "text": [
      "{'edges': [{'data': {'source': 'pd_2', 'target': 'pd_0'}},\n",
      "           {'data': {'source': 'pd_2', 'target': 'pd_1'}},\n",
      "           {'data': {'source': 'pd_2', 'target': 'manual_0'}}],\n",
      " 'nodes': [{'id': 'pd_0', 'name': 'PD 0', 'targets': []},\n",
      "           {'id': 'pd_1', 'name': 'PD 1', 'targets': []},\n",
      "           {'id': 'pd_2',\n",
      "            'name': 'PD 2',\n",
      "            'targets': ['pd_0', 'pd_1', 'manual_0']}]}\n"
     ]
    }
   ],
   "source": [
    "data = {'nodes':[], 'edges':[]}\n",
    "\n",
    "for _, row in df.iterrows():    \n",
    "    data['nodes'].append(dict(row))\n",
    "    for target in row['targets']:\n",
    "        data['edges'].append({'data':{'source': row['id'], 'target': target}})\n",
    "        \n",
    "pretty.pprint(data)"
   ]
  },
  {
   "cell_type": "code",
   "execution_count": 9,
   "metadata": {},
   "outputs": [],
   "source": [
    "cytoscapeobj.graph.add_graph_from_json(data)"
   ]
  },
  {
   "cell_type": "code",
   "execution_count": 10,
   "metadata": {},
   "outputs": [
    {
     "data": {
      "text/plain": [
       "[{'selector': 'node',\n",
       "  'css': {'content': 'data(name)',\n",
       "   'text-valign': 'center',\n",
       "   'color': 'white',\n",
       "   'text-outline-width': 2,\n",
       "   'text-outline-color': 'green',\n",
       "   'background-color': 'green'}},\n",
       " {'selector': ':selected',\n",
       "  'css': {'background-color': 'black',\n",
       "   'line-color': 'black',\n",
       "   'target-arrow-color': 'black',\n",
       "   'source-arrow-color': 'black',\n",
       "   'text-outline-color': 'black'}}]"
      ]
     },
     "execution_count": 10,
     "metadata": {},
     "output_type": "execute_result"
    }
   ],
   "source": [
    "cytoscapeobj.set_style([{\n",
    "                        'selector': 'node',\n",
    "                        'css': {\n",
    "                            'content': 'data(name)',\n",
    "                            'text-valign': 'center',\n",
    "                            'color': 'white',\n",
    "                            'text-outline-width': 2,\n",
    "                            'text-outline-color': 'green',\n",
    "                            'background-color': 'green'\n",
    "                        }\n",
    "                        },\n",
    "                        {\n",
    "                        'selector': ':selected',\n",
    "                        'css': {\n",
    "                            'background-color': 'black',\n",
    "                            'line-color': 'black',\n",
    "                            'target-arrow-color': 'black',\n",
    "                            'source-arrow-color': 'black',\n",
    "                            'text-outline-color': 'black'\n",
    "                        }}\n",
    "                        ])\n",
    "cytoscapeobj.get_style()"
   ]
  },
  {
   "cell_type": "markdown",
   "metadata": {},
   "source": [
    "### With parents"
   ]
  },
  {
   "cell_type": "code",
   "execution_count": 23,
   "metadata": {},
   "outputs": [
    {
     "data": {
      "text/plain": [
       "[Edge(data={'id': 'edge-0', 'source': 'manual_0', 'target': 'from_pd_0'}, position={}),\n",
       " Edge(data={'id': 'edge-1', 'source': 'from_pd_0', 'target': 'from_pd_1'}, position={}),\n",
       " Edge(data={'id': 'edge-2', 'source': 'from_pd_0', 'target': 'from_pd_2'}, position={}),\n",
       " Edge(data={'id': 'edge-3', 'source': 'manual_0', 'target': 'pd_2'}, position={}),\n",
       " Edge(data={'id': 'edge-4', 'source': 'manual_0', 'target': 'pd_0'}, position={}),\n",
       " Edge(data={'id': 'edge-5', 'source': 'from_pd_0', 'target': 'pd_1'}, position={})]"
      ]
     },
     "execution_count": 23,
     "metadata": {},
     "output_type": "execute_result"
    }
   ],
   "source": [
    "d = ic.CytoscapeWidget()\n",
    "data = {'nodes': [\n",
    "            {'data': {'id': 'bob-parent', 'name': 'bob'}},\n",
    "            {'data': {'id': 'alice-parent', 'name': 'alice'}},\n",
    "            {'data': {'id': 'pd_0', 'name': 'bob-pd_0', 'parent': 'bob-parent'}}, \n",
    "            {'data': {'id': 'pd_1', 'name': 'bob-pd_1', 'parent': 'bob-parent'}},\n",
    "            {'data': {'id': 'pd_2', 'name': 'alice-pd_2', 'parent': 'alice-parent'}},\n",
    "            {'data': {'id': 'manual', 'name': 'parent-manual'}},\n",
    "            {'data': {'id': 'manual_0', 'name': 'Manual 0', 'parent': 'manual'}},\n",
    "            {'data': {'id': 'from_df', 'name': 'df'}},\n",
    "            {'data': {'id': 'from_pd_0', 'parent': 'from_df', 'name': 'PD 0'}}, \n",
    "            {'data': {'id': 'from_pd_1', 'parent': 'from_df', 'name': 'PD 1'}},\n",
    "            {'data': {'id': 'from_pd_2', 'parent': 'from_df', 'name': 'PD 2'}}\n",
    "        ],\n",
    "        'edges': [\n",
    "            {'data': {'id': 'edge-0', 'source': 'manual_0', 'target': 'from_pd_0'}},\n",
    "            {'data': {'id': 'edge-1', 'source': 'from_pd_0', 'target': 'from_pd_1'}},\n",
    "            {'data': {'id': 'edge-2', 'source': 'from_pd_0', 'target': 'from_pd_2'}},\n",
    "            {'data': {'id': 'edge-3', 'source': 'manual_0', 'target': 'pd_2'}},\n",
    "            {'data': {'id': 'edge-4', 'source': 'manual_0', 'target': 'pd_0'}},\n",
    "            {'data': {'id': 'edge-5', 'source': 'from_pd_0', 'target': 'pd_1'}}\n",
    "        ]}\n",
    "d.graph.add_graph_from_json(data)\n",
    "d.graph.edges"
   ]
  },
  {
   "cell_type": "code",
   "execution_count": 24,
   "metadata": {
    "scrolled": true
   },
   "outputs": [
    {
     "data": {
      "text/plain": [
       "[Node(data={'id': 'bob-parent', 'name': 'bob'}, position={}),\n",
       " Node(data={'id': 'alice-parent', 'name': 'alice'}, position={}),\n",
       " Node(data={'id': 'pd_0', 'name': 'bob-pd_0', 'parent': 'bob-parent'}, position={}),\n",
       " Node(data={'id': 'pd_1', 'name': 'bob-pd_1', 'parent': 'bob-parent'}, position={}),\n",
       " Node(data={'id': 'pd_2', 'name': 'alice-pd_2', 'parent': 'alice-parent'}, position={}),\n",
       " Node(data={'id': 'manual', 'name': 'parent-manual'}, position={}),\n",
       " Node(data={'id': 'manual_0', 'name': 'Manual 0', 'parent': 'manual'}, position={}),\n",
       " Node(data={'id': 'from_df', 'name': 'df'}, position={}),\n",
       " Node(data={'id': 'from_pd_0', 'parent': 'from_df', 'name': 'PD 0'}, position={}),\n",
       " Node(data={'id': 'from_pd_1', 'parent': 'from_df', 'name': 'PD 1'}, position={}),\n",
       " Node(data={'id': 'from_pd_2', 'parent': 'from_df', 'name': 'PD 2'}, position={})]"
      ]
     },
     "execution_count": 24,
     "metadata": {},
     "output_type": "execute_result"
    }
   ],
   "source": [
    "d.graph.nodes"
   ]
  },
  {
   "cell_type": "code",
   "execution_count": 31,
   "metadata": {
    "scrolled": true
   },
   "outputs": [
    {
     "data": {
      "application/vnd.jupyter.widget-view+json": {
       "model_id": "aa7d3580bfa04333b037f1ad528c7e58",
       "version_major": 2,
       "version_minor": 0
      },
      "text/plain": [
       "CytoscapeWidget(cytoscape_layout={'name': 'cola'}, cytoscape_style=[{'selector': 'node', 'css': {'content': 'd…"
      ]
     },
     "metadata": {},
     "output_type": "display_data"
    }
   ],
   "source": [
    "display(d)"
   ]
  },
  {
   "cell_type": "code",
   "execution_count": 32,
   "metadata": {},
   "outputs": [],
   "source": [
    "d.set_style([{\n",
    "                'selector': 'node',\n",
    "                'css': {\n",
    "                    'content': 'data(name)',\n",
    "                }\n",
    "             },\n",
    "             {\n",
    "                'selector': 'edge',\n",
    "                'css': {\n",
    "                    'line-color': 'black',\n",
    "                    'target-arrow-color': 'black',\n",
    "                    'target-arrow-shape': 'triangle',\n",
    "                    'curve-style': 'straight'\n",
    "                }\n",
    "             }\n",
    "            ])"
   ]
  }
 ],
 "metadata": {
  "kernelspec": {
   "display_name": "Python 3",
   "language": "python",
   "name": "python3"
  },
  "language_info": {
   "codemirror_mode": {
    "name": "ipython",
    "version": 3
   },
   "file_extension": ".py",
   "mimetype": "text/x-python",
   "name": "python",
   "nbconvert_exporter": "python",
   "pygments_lexer": "ipython3",
   "version": "3.7.8"
  }
 },
 "nbformat": 4,
 "nbformat_minor": 4
}
