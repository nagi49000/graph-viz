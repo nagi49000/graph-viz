{
 "cells": [
  {
   "cell_type": "code",
   "execution_count": 1,
   "metadata": {},
   "outputs": [],
   "source": [
    "import ipycytoscape as ic\n",
    "import os\n",
    "import sys\n",
    "sys.path.append(os.path.join('..', 'data_generation'))\n",
    "from data_generation.random_data import get_data"
   ]
  },
  {
   "cell_type": "code",
   "execution_count": 4,
   "metadata": {},
   "outputs": [
    {
     "data": {
      "text/plain": [
       "{'nodes': [{'data': {'id': 'node_0', 'name': 'Node 0', 'parent': 'parent_1'}},\n",
       "  {'data': {'id': 'node_1', 'name': 'Node 1', 'parent': 'parent_1'}},\n",
       "  {'data': {'id': 'node_2', 'name': 'Node 2', 'parent': 'parent_2'}},\n",
       "  {'data': {'id': 'node_3', 'name': 'Node 3', 'parent': 'parent_1'}},\n",
       "  {'data': {'id': 'node_4', 'name': 'Node 4', 'parent': 'parent_2'}},\n",
       "  {'data': {'id': 'node_5', 'name': 'Node 5', 'parent': 'parent_0'}},\n",
       "  {'data': {'id': 'node_6', 'name': 'Node 6', 'parent': 'parent_1'}},\n",
       "  {'data': {'id': 'node_7', 'name': 'Node 7', 'parent': 'parent_1'}},\n",
       "  {'data': {'id': 'node_8', 'name': 'Node 8', 'parent': 'parent_0'}}],\n",
       " 'edges': [{'data': {'id': 'node_0-node_7',\n",
       "    'source': 'node_0',\n",
       "    'target': 'node_7'}},\n",
       "  {'data': {'id': 'node_1-node_7', 'source': 'node_1', 'target': 'node_7'}},\n",
       "  {'data': {'id': 'node_1-node_6', 'source': 'node_1', 'target': 'node_6'}},\n",
       "  {'data': {'id': 'node_1-node_5', 'source': 'node_1', 'target': 'node_5'}},\n",
       "  {'data': {'id': 'node_2-node_4', 'source': 'node_2', 'target': 'node_4'}},\n",
       "  {'data': {'id': 'node_3-node_7', 'source': 'node_3', 'target': 'node_7'}},\n",
       "  {'data': {'id': 'node_3-node_6', 'source': 'node_3', 'target': 'node_6'}},\n",
       "  {'data': {'id': 'node_3-node_5', 'source': 'node_3', 'target': 'node_5'}},\n",
       "  {'data': {'id': 'node_4-node_2', 'source': 'node_4', 'target': 'node_2'}},\n",
       "  {'data': {'id': 'node_5-node_8', 'source': 'node_5', 'target': 'node_8'}},\n",
       "  {'data': {'id': 'node_6-node_3', 'source': 'node_6', 'target': 'node_3'}},\n",
       "  {'data': {'id': 'node_7-node_1', 'source': 'node_7', 'target': 'node_1'}},\n",
       "  {'data': {'id': 'node_7-node_6', 'source': 'node_7', 'target': 'node_6'}},\n",
       "  {'data': {'id': 'node_7-node_3', 'source': 'node_7', 'target': 'node_3'}},\n",
       "  {'data': {'id': 'node_8-node_5', 'source': 'node_8', 'target': 'node_5'}}]}"
      ]
     },
     "execution_count": 4,
     "metadata": {},
     "output_type": "execute_result"
    }
   ],
   "source": [
    "data = get_data(9, [1, 1, 1], 3.0, 1.0, 1, 3)\n",
    "data"
   ]
  },
  {
   "cell_type": "code",
   "execution_count": 5,
   "metadata": {},
   "outputs": [
    {
     "data": {
      "application/vnd.jupyter.widget-view+json": {
       "model_id": "7a7b43d7a6c7499d9ea075eace3b3b7d",
       "version_major": 2,
       "version_minor": 0
      },
      "text/plain": [
       "CytoscapeWidget(cytoscape_layout={'name': 'cola'}, cytoscape_style=[{'selector': 'node', 'css': {'background-c…"
      ]
     },
     "metadata": {},
     "output_type": "display_data"
    }
   ],
   "source": [
    "cytoscapeobj = ic.CytoscapeWidget()\n",
    "cytoscapeobj.graph.add_graph_from_json(data)\n",
    "display(cytoscapeobj)"
   ]
  }
 ],
 "metadata": {
  "kernelspec": {
   "display_name": "Python 3",
   "language": "python",
   "name": "python3"
  },
  "language_info": {
   "codemirror_mode": {
    "name": "ipython",
    "version": 3
   },
   "file_extension": ".py",
   "mimetype": "text/x-python",
   "name": "python",
   "nbconvert_exporter": "python",
   "pygments_lexer": "ipython3",
   "version": "3.7.8"
  }
 },
 "nbformat": 4,
 "nbformat_minor": 4
}
