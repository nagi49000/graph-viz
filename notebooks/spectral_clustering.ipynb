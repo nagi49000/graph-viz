{
 "cells": [
  {
   "cell_type": "markdown",
   "metadata": {},
   "source": [
    "Using example on https://towardsdatascience.com/spectral-clustering-aba2640c0d5b"
   ]
  },
  {
   "cell_type": "code",
   "execution_count": 1,
   "metadata": {},
   "outputs": [],
   "source": [
    "import pandas as pd\n",
    "import numpy as np\n",
    "import seaborn as sns\n",
    "import ipycytoscape as ic\n",
    "import os\n",
    "import sys\n",
    "sys.path.append(os.path.join('..', 'algorithm'))\n",
    "from algorithm.spectral_clustering import get_spectral_input_from_cytoscape_json\n",
    "from algorithm.spectral_clustering import SpectralClusterer"
   ]
  },
  {
   "cell_type": "code",
   "execution_count": 2,
   "metadata": {},
   "outputs": [],
   "source": [
    "data = {'nodes': \n",
    "         [{'data': {'id': 'n0', 'name': 'Node 0', 'colour': 'green'}},\n",
    "          {'data': {'id': 'n1', 'name': 'Node 1', 'colour': 'green'}},\n",
    "          {'data': {'id': 'n2', 'name': 'Node 2', 'colour': 'green'}},\n",
    "          {'data': {'id': 'n3', 'name': 'Node 3', 'colour': 'green'}},\n",
    "          {'data': {'id': 'n4', 'name': 'Node 4', 'colour': 'green'}},\n",
    "          {'data': {'id': 'n5', 'name': 'Node 5', 'colour': 'green'}},\n",
    "          {'data': {'id': 'n6', 'name': 'Node 6', 'colour': 'green'}},\n",
    "          {'data': {'id': 'n7', 'name': 'Node 7', 'colour': 'green'}},\n",
    "          {'data': {'id': 'n8', 'name': 'Node 8', 'colour': 'green'}},\n",
    "          {'data': {'id': 'n9', 'name': 'Node 9', 'colour': 'green'}}],\n",
    "        'edges': \n",
    "        [{'data': {'id': 'n0-n5', 'source': 'n0', 'target': 'n5'}},\n",
    "         {'data': {'id': 'n0-n1', 'source': 'n0', 'target': 'n1'}},\n",
    "         {'data': {'id': 'n0-n2', 'source': 'n0', 'target': 'n2'}},\n",
    "         {'data': {'id': 'n0-n8', 'source': 'n0', 'target': 'n8'}},\n",
    "         {'data': {'id': 'n0-n9', 'source': 'n0', 'target': 'n9'}},\n",
    "         {'data': {'id': 'n1-n2', 'source': 'n1', 'target': 'n2'}},\n",
    "         {'data': {'id': 'n8-n9', 'source': 'n8', 'target': 'n9'}},\n",
    "         {'data': {'id': 'n5-n3', 'source': 'n5', 'target': 'n3'}},\n",
    "         {'data': {'id': 'n5-n4', 'source': 'n5', 'target': 'n4'}},\n",
    "         {'data': {'id': 'n5-n6', 'source': 'n5', 'target': 'n6'}},\n",
    "         {'data': {'id': 'n5-n7', 'source': 'n5', 'target': 'n7'}},\n",
    "         {'data': {'id': 'n3-n4', 'source': 'n3', 'target': 'n4'}},\n",
    "         {'data': {'id': 'n6-n7', 'source': 'n6', 'target': 'n7'}}]\n",
    "       }"
   ]
  },
  {
   "cell_type": "code",
   "execution_count": 3,
   "metadata": {},
   "outputs": [
    {
     "data": {
      "application/vnd.jupyter.widget-view+json": {
       "model_id": "05020f0abd534da7a7c99f07f0003974",
       "version_major": 2,
       "version_minor": 0
      },
      "text/plain": [
       "CytoscapeWidget(cytoscape_layout={'name': 'cola'}, cytoscape_style=[{'selector': 'node', 'css': {'content': 'd…"
      ]
     },
     "metadata": {},
     "output_type": "display_data"
    }
   ],
   "source": [
    "cytoscapeobj = ic.CytoscapeWidget()\n",
    "cytoscapeobj.graph.add_graph_from_json(data)\n",
    "cytoscapeobj.set_style([{\n",
    "                        'selector': 'node',\n",
    "                        'css': {\n",
    "                            'content': 'data(name)',\n",
    "                            'text-valign': 'center',\n",
    "                            'color': 'white',\n",
    "                            'text-outline-width': 2,\n",
    "                            'text-outline-color': 'green',\n",
    "                            'background-color': 'data(colour)'\n",
    "                        }\n",
    "                        },\n",
    "                        {\n",
    "                        'selector': ':selected',\n",
    "                        'css': {\n",
    "                            'background-color': 'black',\n",
    "                            'line-color': 'black',\n",
    "                            'target-arrow-color': 'black',\n",
    "                            'source-arrow-color': 'black',\n",
    "                            'text-outline-color': 'black'\n",
    "                        }}\n",
    "                        ])\n",
    "display(cytoscapeobj)"
   ]
  },
  {
   "cell_type": "code",
   "execution_count": 4,
   "metadata": {},
   "outputs": [],
   "source": [
    "degrees, adjacencies, node_ids = get_spectral_input_from_cytoscape_json(data)\n",
    "spectral_clusterer = SpectralClusterer(adjacencies, node_ids, method='unnorm')"
   ]
  },
  {
   "cell_type": "markdown",
   "metadata": {},
   "source": [
    "Eigenvalue spectrum"
   ]
  },
  {
   "cell_type": "code",
   "execution_count": 5,
   "metadata": {},
   "outputs": [
    {
     "data": {
      "image/png": "[encoded data removed]",
      "text/plain": [
       "<Figure size 432x288 with 1 Axes>"
      ]
     },
     "metadata": {
      "needs_background": "light"
     },
     "output_type": "display_data"
    }
   ],
   "source": [
    "ax = sns.scatterplot(x=range(10), y=np.sort(spectral_clusterer.get_eigvals()))"
   ]
  },
  {
   "cell_type": "markdown",
   "metadata": {},
   "source": [
    "K means clustering. First four eigenvalues are close to zero, so assume 4 clusters, using 1st, 2nd, 3rd (omitting zeroth) eigenvectors."
   ]
  },
  {
   "cell_type": "code",
   "execution_count": 9,
   "metadata": {
    "scrolled": true
   },
   "outputs": [
    {
     "data": {
      "text/html": [
       "<div>\n",
       "<style scoped>\n",
       "    .dataframe tbody tr th:only-of-type {\n",
       "        vertical-align: middle;\n",
       "    }\n",
       "\n",
       "    .dataframe tbody tr th {\n",
       "        vertical-align: top;\n",
       "    }\n",
       "\n",
       "    .dataframe thead th {\n",
       "        text-align: right;\n",
       "    }\n",
       "</style>\n",
       "<table border=\"1\" class=\"dataframe\">\n",
       "  <thead>\n",
       "    <tr style=\"text-align: right;\">\n",
       "      <th></th>\n",
       "      <th>0</th>\n",
       "      <th>1</th>\n",
       "    </tr>\n",
       "  </thead>\n",
       "  <tbody>\n",
       "    <tr>\n",
       "      <th>0</th>\n",
       "      <td>n0</td>\n",
       "      <td>3</td>\n",
       "    </tr>\n",
       "    <tr>\n",
       "      <th>1</th>\n",
       "      <td>n1</td>\n",
       "      <td>3</td>\n",
       "    </tr>\n",
       "    <tr>\n",
       "      <th>2</th>\n",
       "      <td>n2</td>\n",
       "      <td>3</td>\n",
       "    </tr>\n",
       "    <tr>\n",
       "      <th>3</th>\n",
       "      <td>n3</td>\n",
       "      <td>1</td>\n",
       "    </tr>\n",
       "    <tr>\n",
       "      <th>4</th>\n",
       "      <td>n4</td>\n",
       "      <td>1</td>\n",
       "    </tr>\n",
       "    <tr>\n",
       "      <th>5</th>\n",
       "      <td>n5</td>\n",
       "      <td>1</td>\n",
       "    </tr>\n",
       "    <tr>\n",
       "      <th>6</th>\n",
       "      <td>n6</td>\n",
       "      <td>2</td>\n",
       "    </tr>\n",
       "    <tr>\n",
       "      <th>7</th>\n",
       "      <td>n7</td>\n",
       "      <td>2</td>\n",
       "    </tr>\n",
       "    <tr>\n",
       "      <th>8</th>\n",
       "      <td>n8</td>\n",
       "      <td>0</td>\n",
       "    </tr>\n",
       "    <tr>\n",
       "      <th>9</th>\n",
       "      <td>n9</td>\n",
       "      <td>0</td>\n",
       "    </tr>\n",
       "  </tbody>\n",
       "</table>\n",
       "</div>"
      ],
      "text/plain": [
       "    0  1\n",
       "0  n0  3\n",
       "1  n1  3\n",
       "2  n2  3\n",
       "3  n3  1\n",
       "4  n4  1\n",
       "5  n5  1\n",
       "6  n6  2\n",
       "7  n7  2\n",
       "8  n8  0\n",
       "9  n9  0"
      ]
     },
     "execution_count": 9,
     "metadata": {},
     "output_type": "execute_result"
    }
   ],
   "source": [
    "labels = spectral_clusterer.get_kmeans_clusters(n_clusters=4, start_evec=1, n_evec=3)\n",
    "pd.DataFrame([[x,y] for x,y in zip(node_ids, labels)])"
   ]
  },
  {
   "cell_type": "code",
   "execution_count": 7,
   "metadata": {},
   "outputs": [
    {
     "data": {
      "application/vnd.jupyter.widget-view+json": {
       "model_id": "e90679e2c320461d8ed25eeb5ec63a7e",
       "version_major": 2,
       "version_minor": 0
      },
      "text/plain": [
       "CytoscapeWidget(cytoscape_layout={'name': 'cola'}, cytoscape_style=[{'selector': 'node', 'css': {'content': 'd…"
      ]
     },
     "metadata": {},
     "output_type": "display_data"
    }
   ],
   "source": [
    "colours = ['red', 'green', 'blue', 'yellow']\n",
    "node_colours = {x:colours[y] for x,y in zip(node_ids, labels)}\n",
    "for node in data['nodes']:\n",
    "    id = node['data']['id']\n",
    "    node['data']['colour'] = node_colours[id]\n",
    "\n",
    "cytoscape_clust = ic.CytoscapeWidget()\n",
    "cytoscape_clust.graph.add_graph_from_json(data)\n",
    "cytoscape_clust.set_style([{\n",
    "                        'selector': 'node',\n",
    "                        'css': {\n",
    "                            'content': 'data(name)',\n",
    "                            'text-valign': 'center',\n",
    "                            'color': 'white',\n",
    "                            'text-outline-width': 2,\n",
    "                            'text-outline-color': 'green',\n",
    "                            'background-color': 'data(colour)'\n",
    "                        }\n",
    "                        },\n",
    "                        {\n",
    "                        'selector': ':selected',\n",
    "                        'css': {\n",
    "                            'background-color': 'black',\n",
    "                            'line-color': 'black',\n",
    "                            'target-arrow-color': 'black',\n",
    "                            'source-arrow-color': 'black',\n",
    "                            'text-outline-color': 'black'\n",
    "                        }}\n",
    "                        ])\n",
    "display(cytoscape_clust)"
   ]
  }
 ],
 "metadata": {
  "kernelspec": {
   "display_name": "Python 3",
   "language": "python",
   "name": "python3"
  },
  "language_info": {
   "codemirror_mode": {
    "name": "ipython",
    "version": 3
   },
   "file_extension": ".py",
   "mimetype": "text/x-python",
   "name": "python",
   "nbconvert_exporter": "python",
   "pygments_lexer": "ipython3",
   "version": "3.7.8"
  }
 },
 "nbformat": 4,
 "nbformat_minor": 4
}
